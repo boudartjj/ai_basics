{
 "cells": [
  {
   "cell_type": "code",
   "execution_count": 66,
   "metadata": {},
   "outputs": [],
   "source": [
    "import numpy as np\n",
    "from sklearn.decomposition import PCA\n",
    "import matplotlib.pyplot as plt\n",
    "import math\n",
    "import scipy\n",
    "import sklearn"
   ]
  },
  {
   "cell_type": "code",
   "execution_count": 220,
   "metadata": {},
   "outputs": [],
   "source": [
    "contents = open(\"data/(1) The Hunger Games.txt\", \"r\", encoding='utf-8').read()\n",
    "contents = contents + \" \" + open(\"data/(2) Catching Fire.txt\", \"r\", encoding='utf-8').read()\n",
    "contents = contents + \" \" + open(\"data/(3.1) Mockingjay.txt\", \"r\", encoding='utf-8').read()\n",
    "contents = contents + \" \" + open(\"data/(3.2) Mockingjay.txt\", \"r\", encoding='utf-8').read()"
   ]
  },
  {
   "cell_type": "code",
   "execution_count": 221,
   "metadata": {},
   "outputs": [],
   "source": [
    "sentences = contents.lower().replace(\"\\r\\n\", \" \").replace(\"\\r\", \" \").replace(\"\\n\", \" \").replace(';', ' ').replace(',', ' ').replace('?', ' ').replace('\"', ' ').replace(\"'\", ' ').replace(\":\", ' ').replace(\"*\", ' ').replace(\"#\", ' ').replace(\"[\", ' ').replace(\"]\", ' ').replace(\"-\", ' ').split(\".\")"
   ]
  },
  {
   "cell_type": "code",
   "execution_count": 258,
   "metadata": {},
   "outputs": [
    {
     "name": "stdout",
     "output_type": "stream",
     "text": [
      "193\n"
     ]
    }
   ],
   "source": [
    "# create dictionary\n",
    "dictionary = []\n",
    "tmp_dictionary = {}\n",
    "#words_vector = new array()\n",
    "for i in range (0, len(sentences)):\n",
    "    words = sentences[i].split(\" \")\n",
    "    for word in words:\n",
    "        if len(word.strip()) > 0:\n",
    "            if word not in tmp_dictionary:\n",
    "                tmp_dictionary[word] = 0\n",
    "            tmp_dictionary[word] += 1\n",
    "\n",
    "# keep only frequent words occurences\n",
    "for word in tmp_dictionary:\n",
    "    if tmp_dictionary[word] > 200 and len(word) > 1:\n",
    "        dictionary.append(word)\n",
    "        \n",
    "print(len(dictionary))"
   ]
  },
  {
   "cell_type": "code",
   "execution_count": 259,
   "metadata": {},
   "outputs": [
    {
     "name": "stdout",
     "output_type": "stream",
     "text": [
      "60752\n"
     ]
    }
   ],
   "source": [
    "# get vector dimensions\n",
    "tmp_vector_dimensions = {}\n",
    "vector_dimensions = []\n",
    "for i in range (0, len(sentences)):\n",
    "    words = sentences[i].split(\" \")\n",
    "    prev_word = ''\n",
    "    for i in range(0, len(words)):\n",
    "        word = words[i]\n",
    "        if word in dictionary:\n",
    "            next_word = ''\n",
    "            if i < len(words) - 1: next_word = words[i + 1]\n",
    "            dimension = prev_word + \"_XXX_\" + next_word\n",
    "            if dimension not in tmp_vector_dimensions:\n",
    "                tmp_vector_dimensions[dimension] = 0\n",
    "            tmp_vector_dimensions[dimension] += 1\n",
    "            prev_word = word\n",
    "            \n",
    "# keep only frequent dimensions occurences\n",
    "for dimension in tmp_vector_dimensions:\n",
    "    if tmp_vector_dimensions[dimension] > 0:\n",
    "        vector_dimensions.append(dimension)\n",
    "\n",
    "print(len(vector_dimensions))"
   ]
  },
  {
   "cell_type": "code",
   "execution_count": 260,
   "metadata": {},
   "outputs": [],
   "source": [
    "# create vector\n",
    "vector = np.zeros((len(dictionary), len(vector_dimensions)))\n",
    "\n",
    "for i in range (0, len(sentences)):\n",
    "    words = sentences[i].split(\" \")\n",
    "    prev_word = ''\n",
    "    for i in range(0, len(words)):\n",
    "        word = words[i]\n",
    "        if word in dictionary:\n",
    "            next_word = ''\n",
    "            if i < len(words) - 1: next_word = words[i + 1]\n",
    "            dimension = prev_word + \"_XXX_\" + next_word\n",
    "            if dimension in vector_dimensions:\n",
    "                vector[dictionary.index(word), vector_dimensions.index(dimension)] += 1"
   ]
  },
  {
   "cell_type": "code",
   "execution_count": 261,
   "metadata": {},
   "outputs": [],
   "source": [
    "#reduce dimensions\n",
    "pca = PCA(n_components = 2)\n",
    "vector_2D = pca.fit_transform(vector)\n",
    "\n",
    "pca = PCA(n_components = 100)\n",
    "vector_100D = pca.fit_transform(vector)"
   ]
  },
  {
   "cell_type": "code",
   "execution_count": 262,
   "metadata": {},
   "outputs": [
    {
     "data": {
      "image/png": "[encoded data removed]",
      "text/plain": [
       "<Figure size 432x288 with 1 Axes>"
      ]
     },
     "metadata": {
      "needs_background": "light"
     },
     "output_type": "display_data"
    }
   ],
   "source": [
    "#plot data\n",
    "plt.scatter(vector_2D[:,0], vector_2D[:,1])\n",
    "plt.show()"
   ]
  },
  {
   "cell_type": "code",
   "execution_count": 263,
   "metadata": {},
   "outputs": [],
   "source": [
    "# compute distance matric\n",
    "dist_matrix = sklearn.metrics.pairwise.euclidean_distances(vector)"
   ]
  },
  {
   "cell_type": "code",
   "execution_count": 264,
   "metadata": {},
   "outputs": [
    {
     "name": "stdout",
     "output_type": "stream",
     "text": [
      "games - arena - 20.12461179749811\n",
      "the - first - 911.5190617864225\n",
      "tributes - things - 35.185224171518364\n",
      "when - if - 166.21672599350524\n",
      "up - down - 175.03713891628828\n",
      "other - plutarch - 46.95742752749558\n",
      "of - in - 490.33661906898203\n",
      "is - off - 147.61097520171052\n",
      "my - his - 367.6139279189514\n",
      "out - one - 262.88780877020525\n",
      "but - when - 250.37771466326632\n",
      "only - than - 73.76313442364011\n",
      "she - who - 171.74690681348528\n",
      "must - would - 56.824290580701486\n",
      "have - trying - 266.668333328125\n",
      "had - got - 61.61980201201558\n",
      "and - but - 394.93796981298215\n",
      "in - of - 490.33661906898203\n",
      "with - for - 142.38679714074615\n",
      "our - their - 37.44329045369811\n",
      "mother - cinna - 45.58508528016593\n",
      "did - maybe - 54.85435260760991\n",
      "this - voice - 206.9009424821453\n",
      "day - moment - 20.83266665599966\n",
      "myself - head - 41.47288270665544\n",
      "on - from - 395.84340338068034\n",
      "one - think - 138.3654581172628\n",
      "enough - way - 64.52906321960671\n",
      "to - on - 675.4176485701273\n",
      "see - around - 81.4555093287127\n",
      "them - us - 61.96773353931867\n",
      "little - another - 32.0624390837628\n",
      "prim - room - 26.832815729997478\n",
      "her - here - 80.38656604184557\n",
      "their - our - 37.44329045369811\n",
      "still - things - 43.37049688440288\n",
      "not - had - 118.43141475132347\n",
      "so - then - 96.78326301587481\n",
      "face - day - 29.0\n",
      "as - when - 256.8462575160479\n",
      "for - with - 142.38679714074615\n",
      "which - those - 66.55073252789934\n",
      "was - take - 82.84322543213779\n",
      "very - being - 29.631064780058107\n",
      "too - arena - 46.389654018972806\n",
      "or - feel - 68.30812543175226\n",
      "they - we - 115.43396380615195\n",
      "tell - give - 57.29746940310715\n",
      "me - say - 580.38004789965\n",
      "at - into - 234.0747743777616\n",
      "eyes - water - 27.258026340878022\n",
      "him - us - 139.46325680981354\n",
      "that - what - 278.01978346873085\n",
      "his - your - 152.03617990465295\n",
      "he - she - 357.8477329815015\n",
      "even - feel - 106.6536450385077\n",
      "though - moment - 27.294688127912362\n",
      "it - peeta - 847.2313733567709\n",
      "think - moment - 137.65899897936205\n",
      "how - where - 78.17928114276826\n",
      "home - face - 29.8496231131986\n",
      "last - another - 64.79969135728966\n",
      "thing - am - 39.433488306260706\n",
      "another - little - 32.0624390837628\n",
      "let - give - 68.30080526611674\n",
      "got - being - 40.82891132518721\n",
      "has - had - 110.9188892840169\n",
      "no - well - 224.74429914905517\n",
      "we - they - 115.43396380615195\n",
      "will - must - 130.7937307366068\n",
      "come - things - 65.90144156238162\n",
      "off - over - 67.14164132637808\n",
      "into - by - 161.91664522216362\n",
      "long - another - 43.289721643826724\n",
      "from - into - 190.07366992826755\n",
      "district - place - 153.9675290442761\n",
      "who - which - 84.41563836162112\n",
      "since - until - 26.115129714401192\n",
      "trying - want - 41.617304093369626\n",
      "are - did - 81.54140052758476\n",
      "until - since - 26.115129714401192\n",
      "two - place - 39.89987468652001\n",
      "well - right - 66.64082832618455\n",
      "if - when - 166.21672599350524\n",
      "you - us - 281.06582858825084\n",
      "can - don - 293.8043566729398\n",
      "few - those - 54.89080068645383\n",
      "all - off - 146.93195704134618\n",
      "its - re - 62.08864630510155\n",
      "be - was - 100.77698149875297\n",
      "were - being - 42.07136793592526\n",
      "get - had - 79.56129712366435\n",
      "take - find - 64.37390775772433\n",
      "moment - day - 20.83266665599966\n",
      "right - here - 56.9824534396335\n",
      "now - well - 83.66600265340756\n",
      "by - through - 60.909769331364245\n",
      "been - were - 43.977266854592045\n",
      "there - she - 291.5098626118849\n",
      "here - again - 43.965895873961216\n",
      "im - re - 43.255057507764334\n",
      "like - take - 85.24083528450434\n",
      "know - ask - 148.70776711389354\n",
      "find - give - 49.09175083453431\n",
      "some - any - 66.09084656743322\n",
      "before - where - 74.65922581972036\n",
      "nothing - left - 47.148700936505136\n",
      "then - so - 96.78326301587481\n",
      "more - better - 61.45730225123781\n",
      "people - tributes - 45.044422518220834\n",
      "would - must - 56.824290580701486\n",
      "just - take - 91.63514609580758\n",
      "keep - give - 37.44329045369811\n",
      "could - ll - 41.6293165929973\n",
      "made - keep - 38.88444419044716\n",
      "good - place - 37.17526059088221\n",
      "us - them - 61.96773353931867\n",
      "because - since - 85.98255637046388\n",
      "might - ll - 39.25557285278104\n",
      "never - very - 51.419840528729765\n",
      "back - time - 179.20379460268134\n",
      "where - until - 40.64480286580315\n",
      "over - around - 53.03772242470448\n",
      "things - another - 33.12099032335839\n",
      "about - see - 82.52272414311103\n",
      "capitol - haymitch - 60.03332407921454\n",
      "an - very - 78.49840762716146\n",
      "do - ask - 157.2800050864699\n",
      "make - take - 71.63099887618489\n",
      "than - after - 51.75905717843013\n",
      "am - things - 33.13608305156178\n",
      "gale - capitol - 64.79197481170026\n",
      "feel - keep - 50.59644256269407\n",
      "place - left - 30.854497241083024\n",
      "says - him - 257.270285886264\n",
      "katniss - again - 35.9722114972099\n",
      "first - long - 47.12748667179272\n",
      "around - over - 53.03772242470448\n",
      "look - things - 91.33454987024352\n",
      "what - then - 148.12494725737457\n",
      "hands - eyes - 27.477263328068172\n",
      "say - him - 197.0888124678821\n",
      "dont - never - 64.20280367709809\n",
      "left - place - 30.854497241083024\n",
      "your - very - 43.70354676682432\n",
      "way - something - 52.839379254491625\n",
      "why - things - 38.118237105091836\n",
      "really - voice - 31.496031496047245\n",
      "try - want - 46.119410230400824\n",
      "remember - left - 36.823905279043935\n",
      "while - since - 45.68369512200168\n",
      "each - any - 82.09141246196218\n",
      "ask - arena - 21.79449471770337\n",
      "those - very - 32.68026927673638\n",
      "both - any - 33.19638534539566\n",
      "go - way - 60.0416522091123\n",
      "want - trying - 41.617304093369626\n",
      "time - games - 100.25467570143549\n",
      "any - both - 33.19638534539566\n",
      "something - place - 50.39841267341661\n",
      "after - than - 51.75905717843013\n",
      "better - place - 43.22036556994862\n",
      "being - very - 29.631064780058107\n",
      "going - trying - 59.16924876994806\n",
      "hand - water - 28.460498941515414\n",
      "hear - feel - 51.67204273105525\n",
      "water - eyes - 27.258026340878022\n",
      "help - another - 40.65710270051225\n",
      "head - hand - 37.456641600656084\n",
      "voice - room - 28.442925306655784\n",
      "again - arena - 28.106938645110393\n",
      "much - little - 41.09744517606904\n",
      "through - by - 60.909769331364245\n",
      "down - off - 67.50555532695068\n",
      "arena - games - 20.12461179749811\n",
      "haymitch - capitol - 60.03332407921454\n",
      "give - keep - 37.44329045369811\n",
      "maybe - why - 45.17742799230607\n",
      "away - water - 74.77967638335967\n",
      "seems - got - 61.70899448216605\n",
      "peeta - him - 232.0086205294967\n",
      "asks - night - 35.70714214271425\n",
      "night - day - 22.781571499789035\n",
      "room - night - 25.748786379167466\n",
      "cinna - beetee - 23.769728648009426\n",
      "snow - beetee - 31.68595903550972\n",
      "ll - might - 39.25557285278104\n",
      "ve - never - 93.1611507013519\n",
      "don - can - 293.8043566729398\n",
      "re - im - 43.255057507764334\n",
      "plutarch - beetee - 23.108440016582687\n",
      "finnick - prim - 60.30754513325841\n",
      "beetee - plutarch - 23.108440016582687\n"
     ]
    }
   ],
   "source": [
    "xxx = np.argmin(np.where(dist_matrix == 0, 9999, dist_matrix), axis=1)\n",
    "i = 0;\n",
    "for x in xxx:\n",
    "    w1 = dictionary[i]\n",
    "    w2 = dictionary[x]\n",
    "    dist = dist_matrix[dictionary.index(w1), dictionary.index(w2)]\n",
    "    print(w1 + \" - \" + w2 + \" - \" + str(dist))\n",
    "    i += 1"
   ]
  },
  {
   "cell_type": "code",
   "execution_count": 233,
   "metadata": {},
   "outputs": [
    {
     "data": {
      "text/plain": [
       "2.7663306100449367"
      ]
     },
     "execution_count": 233,
     "metadata": {},
     "output_type": "execute_result"
    }
   ],
   "source": [
    "dist_matrix[dictionary.index(\"five\"), dictionary.index(\"four\")]"
   ]
  },
  {
   "cell_type": "code",
   "execution_count": null,
   "metadata": {},
   "outputs": [],
   "source": []
  }
 ],
 "metadata": {
  "kernelspec": {
   "display_name": "Python 3.7 (tensorflow)",
   "language": "python",
   "name": "tensorflow"
  },
  "language_info": {
   "codemirror_mode": {
    "name": "ipython",
    "version": 3
   },
   "file_extension": ".py",
   "mimetype": "text/x-python",
   "name": "python",
   "nbconvert_exporter": "python",
   "pygments_lexer": "ipython3",
   "version": "3.7.4"
  }
 },
 "nbformat": 4,
 "nbformat_minor": 4
}
