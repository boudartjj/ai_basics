{
 "cells": [
  {
   "cell_type": "code",
   "execution_count": 493,
   "metadata": {},
   "outputs": [],
   "source": [
    "import numpy as np\n",
    "from sklearn.decomposition import PCA\n",
    "from sklearn.preprocessing import normalize\n",
    "import matplotlib.pyplot as plt\n",
    "import math\n",
    "from statistics import mean, stdev\n",
    "import scipy\n",
    "import sklearn"
   ]
  },
  {
   "cell_type": "code",
   "execution_count": 494,
   "metadata": {},
   "outputs": [],
   "source": [
    "contents = open(\"data/(1) The Hunger Games.txt\", \"r\", encoding='utf-8').read()\n",
    "contents = contents + \" \" + open(\"data/(2) Catching Fire.txt\", \"r\", encoding='utf-8').read()\n",
    "contents = contents + \" \" + open(\"data/(3.1) Mockingjay.txt\", \"r\", encoding='utf-8').read()\n",
    "contents = contents + \" \" + open(\"data/(3.2) Mockingjay.txt\", \"r\", encoding='utf-8').read()\n",
    "contents = contents + \" \" + open(\"data/Lords of the Rings.txt\", \"r\").read()\n",
    "contents = contents + \" \" + open(\"data/Pride and Prejudice.txt\", \"r\").read()"
   ]
  },
  {
   "cell_type": "code",
   "execution_count": 495,
   "metadata": {},
   "outputs": [],
   "source": [
    "sentences = contents.lower().replace(\"\\r\\n\", \" \").replace(\"\\r\", \" \").replace(\"\\n\", \" \").replace(';', ' ').replace(',', ' ').replace('?', ' ').replace('\"', ' ').replace(\"'\", ' ').replace(\":\", ' ').replace(\"*\", ' ').replace(\"#\", ' ').replace(\"[\", ' ').replace(\"]\", ' ').replace(\"-\", ' ').split(\".\")"
   ]
  },
  {
   "cell_type": "code",
   "execution_count": 496,
   "metadata": {},
   "outputs": [
    {
     "data": {
      "image/png": "[encoded data removed]",
      "text/plain": [
       "<Figure size 432x288 with 1 Axes>"
      ]
     },
     "metadata": {
      "needs_background": "light"
     },
     "output_type": "display_data"
    },
    {
     "name": "stdout",
     "output_type": "stream",
     "text": [
      "2511\n"
     ]
    }
   ],
   "source": [
    "# create dictionary\n",
    "dictionary = []\n",
    "tmp_dictionary = {}\n",
    "#words_vector = new array()\n",
    "for i in range (0, len(sentences)):\n",
    "    words = sentences[i].split(\" \")\n",
    "    for word in words:\n",
    "        if len(word.strip()) > 0:\n",
    "            if word not in tmp_dictionary:\n",
    "                tmp_dictionary[word] = 0\n",
    "            tmp_dictionary[word] += 1\n",
    "            \n",
    "plt.plot(list(tmp_dictionary.values()))\n",
    "plt.show()\n",
    "            \n",
    "# keep only frequent words occurences\n",
    "mean = mean(tmp_dictionary.values())\n",
    "stdev = stdev(tmp_dictionary.values())\n",
    "\n",
    "for word in tmp_dictionary:\n",
    "    if tmp_dictionary[word] > 20 and len(word) > 1 and not word.isnumeric():\n",
    "        dictionary.append(word)\n",
    "        \n",
    "print(len(dictionary))"
   ]
  },
  {
   "cell_type": "code",
   "execution_count": 497,
   "metadata": {},
   "outputs": [
    {
     "name": "stdout",
     "output_type": "stream",
     "text": [
      "803\n"
     ]
    }
   ],
   "source": [
    "# get vector dimensions\n",
    "tmp_vector_dimensions = {}\n",
    "vector_dimensions = []\n",
    "for i in range (0, len(sentences)):\n",
    "    words = sentences[i].split(\" \")\n",
    "    prev_word = ''\n",
    "    for i in range(0, len(words)):\n",
    "        word = words[i]\n",
    "        if word in dictionary:\n",
    "            next_word = ''\n",
    "            if i < len(words) - 1: next_word = words[i + 1]\n",
    "            dimension = prev_word + \"_XXX_\" + next_word\n",
    "            if dimension not in tmp_vector_dimensions:\n",
    "                tmp_vector_dimensions[dimension] = 0\n",
    "            tmp_vector_dimensions[dimension] += 1\n",
    "            prev_word = word\n",
    "            \n",
    "# keep only frequent dimensions occurences\n",
    "for dimension in tmp_vector_dimensions:\n",
    "    if tmp_vector_dimensions[dimension] > 50:\n",
    "        vector_dimensions.append(dimension)\n",
    "\n",
    "print(len(vector_dimensions))"
   ]
  },
  {
   "cell_type": "code",
   "execution_count": 498,
   "metadata": {},
   "outputs": [],
   "source": [
    "# create words vector\n",
    "words_vector = np.zeros((len(dictionary), len(vector_dimensions)))\n",
    "\n",
    "for i in range (0, len(sentences)):\n",
    "    words = sentences[i].split(\" \")\n",
    "    prev_word = ''\n",
    "    for i in range(0, len(words)):\n",
    "        word = words[i]\n",
    "        if word in dictionary:\n",
    "            next_word = ''\n",
    "            if i < len(words) - 1: next_word = words[i + 1]\n",
    "            dimension = prev_word + \"_XXX_\" + next_word\n",
    "            if dimension in vector_dimensions:\n",
    "                words_vector[dictionary.index(word), vector_dimensions.index(dimension)] += 1"
   ]
  },
  {
   "cell_type": "code",
   "execution_count": 499,
   "metadata": {},
   "outputs": [],
   "source": [
    "#normalize and reduce dimensions\n",
    "words_vector = normalize(words_vector, axis=1, norm='l1')\n",
    "\n",
    "pca = PCA(n_components = 2)\n",
    "vector_2D = pca.fit_transform(words_vector)"
   ]
  },
  {
   "cell_type": "code",
   "execution_count": 500,
   "metadata": {},
   "outputs": [
    {
     "data": {
      "image/png": "[encoded data removed]",
      "text/plain": [
       "<Figure size 432x288 with 1 Axes>"
      ]
     },
     "metadata": {
      "needs_background": "light"
     },
     "output_type": "display_data"
    }
   ],
   "source": [
    "#plot data\n",
    "plt.scatter(vector_2D[:,0], vector_2D[:,1])\n",
    "plt.show()"
   ]
  },
  {
   "cell_type": "code",
   "execution_count": 501,
   "metadata": {},
   "outputs": [],
   "source": [
    "# compute distance matric\n",
    "dist_matrix = sklearn.metrics.pairwise.euclidean_distances(words_vector)"
   ]
  },
  {
   "cell_type": "code",
   "execution_count": 512,
   "metadata": {},
   "outputs": [
    {
     "name": "stdout",
     "output_type": "stream",
     "text": [
      "hey - mr - 0.0030610683168290293\n",
      "greasy - mr - 0.0030610683168290293\n",
      "nearby - thirty - 0.009065471553679323\n",
      "actual - mr - 0.0030610683168290293\n",
      "endless - mr - 0.0030610683168290293\n",
      "double - mr - 0.0030610683168290293\n",
      "eastern - mr - 0.0030610683168290293\n",
      "fifteen - mr - 0.0030610683168290293\n",
      "don - wasn - 0.00817366349707064\n",
      "yeah - mr - 0.0030610683168290293\n",
      "thirty - nearby - 0.009065471553679323\n",
      "catos - mr - 0.0030610683168290293\n",
      "wasn - don - 0.00817366349707064\n",
      "sir - exceedingly - 0.006332299533014166\n",
      "tock - mr - 0.0030610683168290293\n",
      "minas - mr - 0.0030610683168290293\n",
      "mrs - mr - 0.0030610683168290293\n",
      "northern - mr - 0.0030610683168290293\n",
      "exceedingly - sir - 0.006332299533014166\n",
      "southern - mr - 0.0030610683168290293\n",
      "mr - hey - 0.0030610683168290293\n",
      "“oh - mr - 0.0030610683168290293\n",
      "de - mr - 0.0030610683168290293\n"
     ]
    }
   ],
   "source": [
    "xxx = np.argmin(np.where(dist_matrix == 0, 9999, dist_matrix), axis=1)\n",
    "i = 0;\n",
    "for x in xxx:\n",
    "    w1 = dictionary[i]\n",
    "    w2 = dictionary[x]\n",
    "    dist = dist_matrix[dictionary.index(w1), dictionary.index(w2)]\n",
    "    if dist < 0.01: \n",
    "        print(w1 + \" - \" + w2 + \" - \" + str(dist))\n",
    "    i += 1"
   ]
  },
  {
   "cell_type": "code",
   "execution_count": 518,
   "metadata": {},
   "outputs": [
    {
     "data": {
      "text/plain": [
       "0.2261430961329106"
      ]
     },
     "execution_count": 518,
     "metadata": {},
     "output_type": "execute_result"
    }
   ],
   "source": [
    "dist_matrix[dictionary.index(\"mountain\"), dictionary.index(\"lady\")]"
   ]
  },
  {
   "cell_type": "code",
   "execution_count": null,
   "metadata": {},
   "outputs": [],
   "source": []
  }
 ],
 "metadata": {
  "kernelspec": {
   "display_name": "Python 3.7 (tensorflow)",
   "language": "python",
   "name": "tensorflow"
  },
  "language_info": {
   "codemirror_mode": {
    "name": "ipython",
    "version": 3
   },
   "file_extension": ".py",
   "mimetype": "text/x-python",
   "name": "python",
   "nbconvert_exporter": "python",
   "pygments_lexer": "ipython3",
   "version": "3.7.4"
  }
 },
 "nbformat": 4,
 "nbformat_minor": 4
}
