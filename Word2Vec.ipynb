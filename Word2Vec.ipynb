{
 "cells": [
  {
   "cell_type": "code",
   "execution_count": 146,
   "metadata": {},
   "outputs": [],
   "source": [
    "import urllib.request\n",
    "import numpy as np\n",
    "from sklearn.decomposition import PCA\n",
    "import matplotlib.pyplot as plt"
   ]
  },
  {
   "cell_type": "code",
   "execution_count": 95,
   "metadata": {},
   "outputs": [],
   "source": [
    "contents = urllib.request.urlopen(\"http://www.gutenberg.org/cache/epub/5200/pg5200.txt\").read().decode(\"utf-8\")"
   ]
  },
  {
   "cell_type": "code",
   "execution_count": 104,
   "metadata": {},
   "outputs": [],
   "source": [
    "sentences = contents.lower().replace(\"\\r\\n\", \" \").replace(';', ' ').replace(',', ' ').replace('?', ' ').replace('\"', ' ').replace(\"'\", ' ').replace(\":\", ' ').replace(\"*\", ' ').replace(\"#\", ' ').replace(\"[\", ' ').replace(\"]\", ' ').split(\".\")"
   ]
  },
  {
   "cell_type": "code",
   "execution_count": 113,
   "metadata": {},
   "outputs": [
    {
     "name": "stdout",
     "output_type": "stream",
     "text": [
      "571\n"
     ]
    }
   ],
   "source": [
    "# create dictionary\n",
    "dictionary = []\n",
    "tmp_dictionary = {}\n",
    "#words_vector = new array()\n",
    "for i in range (0, len(sentences)):\n",
    "    words = sentences[i].split(\" \")\n",
    "    for word in words:\n",
    "        if len(word.strip()) > 0:\n",
    "            if word not in tmp_dictionary:\n",
    "                tmp_dictionary[word] = 0\n",
    "            tmp_dictionary[word] += 1\n",
    "\n",
    "# keep only frequent words occurences\n",
    "for word in tmp_dictionary:\n",
    "    if tmp_dictionary[word] > 5 and len(word) > 1:\n",
    "        dictionary.append(word)\n",
    "        #print(word + \" - \" + str(tmp_dictionary[word]))\n",
    "        \n",
    "print(len(dictionary))"
   ]
  },
  {
   "cell_type": "code",
   "execution_count": 129,
   "metadata": {},
   "outputs": [
    {
     "name": "stdout",
     "output_type": "stream",
     "text": [
      "741\n"
     ]
    }
   ],
   "source": [
    "# get vector dimensions\n",
    "tmp_vector_dimensions = {}\n",
    "vector_dimensions = []\n",
    "for i in range (0, len(sentences)):\n",
    "    words = sentences[i].split(\" \")\n",
    "    prev_word = ''\n",
    "    for i in range(0, len(words)):\n",
    "        word = words[i]\n",
    "        if word in dictionary:\n",
    "            next_word = ''\n",
    "            if i < len(words) - 1: next_word = words[i + 1]\n",
    "            dimension = prev_word + \"_XXX_\" + next_word\n",
    "            if dimension not in tmp_vector_dimensions:\n",
    "                tmp_vector_dimensions[dimension] = 0\n",
    "            tmp_vector_dimensions[dimension] += 1\n",
    "            prev_word = word\n",
    "            \n",
    "# keep only frequent dimensions occurences\n",
    "for dimension in tmp_vector_dimensions:\n",
    "    if tmp_vector_dimensions[dimension] > 3:\n",
    "        vector_dimensions.append(dimension)\n",
    "\n",
    "print(len(vector_dimensions))"
   ]
  },
  {
   "cell_type": "code",
   "execution_count": 136,
   "metadata": {},
   "outputs": [],
   "source": [
    "# create vector\n",
    "vector = np.zeros((len(dictionary), len(vector_dimensions)))\n",
    "\n",
    "for i in range (0, len(sentences)):\n",
    "    words = sentences[i].split(\" \")\n",
    "    prev_word = ''\n",
    "    for i in range(0, len(words)):\n",
    "        word = words[i]\n",
    "        if word in dictionary:\n",
    "            next_word = ''\n",
    "            if i < len(words) - 1: next_word = words[i + 1]\n",
    "            dimension = prev_word + \"_XXX_\" + next_word\n",
    "            if dimension in vector_dimensions:\n",
    "                vector[i, vector_dimensions.index(dimension)] += 1"
   ]
  },
  {
   "cell_type": "code",
   "execution_count": 147,
   "metadata": {},
   "outputs": [],
   "source": [
    "#reduce dimensions\n",
    "pca = PCA(n_components = 2)\n",
    "vector_2D = pca.fit_transform(vector)"
   ]
  },
  {
   "cell_type": "code",
   "execution_count": 150,
   "metadata": {},
   "outputs": [
    {
     "data": {
      "image/png": "[encoded data removed]",
      "text/plain": [
       "<Figure size 432x288 with 1 Axes>"
      ]
     },
     "metadata": {
      "needs_background": "light"
     },
     "output_type": "display_data"
    }
   ],
   "source": [
    "#plot data\n",
    "plt.scatter(vector_2D[:,0], vector_2D[:,1])\n",
    "plt.show()"
   ]
  },
  {
   "cell_type": "code",
   "execution_count": null,
   "metadata": {},
   "outputs": [],
   "source": []
  }
 ],
 "metadata": {
  "kernelspec": {
   "display_name": "Python 3.7 (tensorflow)",
   "language": "python",
   "name": "tensorflow"
  },
  "language_info": {
   "codemirror_mode": {
    "name": "ipython",
    "version": 3
   },
   "file_extension": ".py",
   "mimetype": "text/x-python",
   "name": "python",
   "nbconvert_exporter": "python",
   "pygments_lexer": "ipython3",
   "version": "3.7.6"
  }
 },
 "nbformat": 4,
 "nbformat_minor": 4
}
