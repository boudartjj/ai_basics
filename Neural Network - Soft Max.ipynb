{
 "cells": [
  {
   "cell_type": "code",
   "execution_count": 16,
   "metadata": {},
   "outputs": [],
   "source": [
    "from tensorflow.keras import layers, models, optimizers\n",
    "from tensorflow import train\n",
    "import numpy as np\n",
    "from sklearn.datasets import load_iris"
   ]
  },
  {
   "cell_type": "code",
   "execution_count": 60,
   "metadata": {
    "scrolled": false
   },
   "outputs": [
    {
     "name": "stdout",
     "output_type": "stream",
     "text": [
      "(150, 3)\n"
     ]
    }
   ],
   "source": [
    "#load iris data\n",
    "iris = load_iris()\n",
    "train_data = iris.data\n",
    "train_target = np.zeros((len(iris.target), iris.target.max() + 1))\n",
    "for i in range(len(iris.target)):\n",
    "    train_target[i, iris.target[i]] = 1"
   ]
  },
  {
   "cell_type": "code",
   "execution_count": 65,
   "metadata": {},
   "outputs": [],
   "source": [
    "# create Neral Network model\n",
    "model = models.Sequential()\n",
    "model.add(layers.Dense(train_data.shape[1], activation='relu'))\n",
    "model.add(layers.Dense(10, activation='relu'))\n",
    "model.add(layers.Dense(train_target.shape[1], activation='softmax'))\n",
    "model.compile(optimizer=optimizers.Adam(0.01), loss='MSE', metrics=['accuracy'])"
   ]
  },
  {
   "cell_type": "code",
   "execution_count": 66,
   "metadata": {},
   "outputs": [
    {
     "name": "stdout",
     "output_type": "stream",
     "text": [
      "Train on 150 samples\n",
      "Epoch 1/20\n",
      "150/150 [==============================] - 1s 4ms/sample - loss: 0.2436 - accuracy: 0.3333\n",
      "Epoch 2/20\n",
      "150/150 [==============================] - 0s 143us/sample - loss: 0.2237 - accuracy: 0.3467\n",
      "Epoch 3/20\n",
      "150/150 [==============================] - 0s 123us/sample - loss: 0.2141 - accuracy: 0.5200\n",
      "Epoch 4/20\n",
      "150/150 [==============================] - 0s 154us/sample - loss: 0.2032 - accuracy: 0.7400\n",
      "Epoch 5/20\n",
      "150/150 [==============================] - 0s 144us/sample - loss: 0.1924 - accuracy: 0.6067\n",
      "Epoch 6/20\n",
      "150/150 [==============================] - 0s 150us/sample - loss: 0.1757 - accuracy: 0.6467\n",
      "Epoch 7/20\n",
      "150/150 [==============================] - 0s 156us/sample - loss: 0.1590 - accuracy: 0.6667\n",
      "Epoch 8/20\n",
      "150/150 [==============================] - 0s 139us/sample - loss: 0.1401 - accuracy: 0.6667\n",
      "Epoch 9/20\n",
      "150/150 [==============================] - 0s 142us/sample - loss: 0.1262 - accuracy: 0.6667\n",
      "Epoch 10/20\n",
      "150/150 [==============================] - 0s 139us/sample - loss: 0.1154 - accuracy: 0.6667\n",
      "Epoch 11/20\n",
      "150/150 [==============================] - 0s 171us/sample - loss: 0.1078 - accuracy: 0.6667\n",
      "Epoch 12/20\n",
      "150/150 [==============================] - 0s 149us/sample - loss: 0.1026 - accuracy: 0.7067\n",
      "Epoch 13/20\n",
      "150/150 [==============================] - 0s 169us/sample - loss: 0.0999 - accuracy: 0.8533\n",
      "Epoch 14/20\n",
      "150/150 [==============================] - 0s 138us/sample - loss: 0.0954 - accuracy: 0.8133\n",
      "Epoch 15/20\n",
      "150/150 [==============================] - 0s 182us/sample - loss: 0.0926 - accuracy: 0.7867\n",
      "Epoch 16/20\n",
      "150/150 [==============================] - 0s 143us/sample - loss: 0.0893 - accuracy: 0.8467\n",
      "Epoch 17/20\n",
      "150/150 [==============================] - 0s 184us/sample - loss: 0.0868 - accuracy: 0.8933\n",
      "Epoch 18/20\n",
      "150/150 [==============================] - 0s 128us/sample - loss: 0.0816 - accuracy: 0.9000\n",
      "Epoch 19/20\n",
      "150/150 [==============================] - 0s 191us/sample - loss: 0.0776 - accuracy: 0.9333\n",
      "Epoch 20/20\n",
      "150/150 [==============================] - 0s 164us/sample - loss: 0.0742 - accuracy: 0.9067\n"
     ]
    },
    {
     "data": {
      "text/plain": [
       "<tensorflow.python.keras.callbacks.History at 0x7f3581065750>"
      ]
     },
     "execution_count": 66,
     "metadata": {},
     "output_type": "execute_result"
    }
   ],
   "source": [
    "# train model\n",
    "model.fit(train_data, train_target, epochs=20, batch_size=32)"
   ]
  },
  {
   "cell_type": "code",
   "execution_count": null,
   "metadata": {},
   "outputs": [],
   "source": []
  }
 ],
 "metadata": {
  "kernelspec": {
   "display_name": "Python 3.7 (tensorflow)",
   "language": "python",
   "name": "tensorflow"
  },
  "language_info": {
   "codemirror_mode": {
    "name": "ipython",
    "version": 3
   },
   "file_extension": ".py",
   "mimetype": "text/x-python",
   "name": "python",
   "nbconvert_exporter": "python",
   "pygments_lexer": "ipython3",
   "version": "3.7.6"
  }
 },
 "nbformat": 4,
 "nbformat_minor": 4
}
